{
 "cells": [
  {
   "cell_type": "code",
   "execution_count": 10,
   "id": "96dbded7",
   "metadata": {},
   "outputs": [
    {
     "name": "stdout",
     "output_type": "stream",
     "text": [
      " mae :1.4\n",
      " mse: 2.2\n",
      " rmse: 1.4832396974191326\n",
      " r2: 0.956\n"
     ]
    }
   ],
   "source": [
    "from sklearn.metrics import mean_absolute_error,mean_squared_error,r2_score\n",
    "import numpy as np\n",
    "y_test = np.array([30, 35, 40, 45, 50])\n",
    "y_pred = np.array([32, 34, 39, 47, 49])\n",
    "mae=mean_absolute_error(y_test,y_pred)\n",
    "mse=mean_squared_error(y_test,y_pred)\n",
    "rmse = np.sqrt(mean_squared_error(y_test, y_pred))\n",
    "r2=r2_score(y_test,y_pred)\n",
    "print(f\" mae :{mae}\\n mse: {mse}\\n rmse: {rmse}\\n r2: {r2}\")"
   ]
  }
 ],
 "metadata": {
  "kernelspec": {
   "display_name": "Python 3",
   "language": "python",
   "name": "python3"
  },
  "language_info": {
   "codemirror_mode": {
    "name": "ipython",
    "version": 3
   },
   "file_extension": ".py",
   "mimetype": "text/x-python",
   "name": "python",
   "nbconvert_exporter": "python",
   "pygments_lexer": "ipython3",
   "version": "3.13.5"
  }
 },
 "nbformat": 4,
 "nbformat_minor": 5
}
